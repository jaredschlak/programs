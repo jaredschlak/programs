{
 "cells": [
  {
   "cell_type": "markdown",
   "id": "7088464e",
   "metadata": {},
   "source": [
    "Problem 1\n",
    "Olivia is always fascinated by prime numbers. She wanted to know the number of English letters\n",
    "that are required for writing them.\n",
    "Write a program which takes the natural number N and gives the number of english letters\n",
    "required to write the prime numbers below N."
   ]
  },
  {
   "cell_type": "code",
   "execution_count": 66,
   "id": "cc81305e",
   "metadata": {},
   "outputs": [
    {
     "name": "stdout",
     "output_type": "stream",
     "text": [
      "The prime numbers below 99  are  [2, 3, 5, 7, 11, 13, 17, 19, 23, 29, 31, 37, 41, 43, 47, 53, 59, 61, 67, 71, 73, 79, 83, 89, 97]\n"
     ]
    },
    {
     "data": {
      "text/plain": [
       "219"
      ]
     },
     "execution_count": 66,
     "metadata": {},
     "output_type": "execute_result"
    }
   ],
   "source": [
    "def count_prime_letters(n):\n",
    "    primearray = [2, 3, 5, 7, 11, 13, 17, 19, 23, 29, 31, 37, 41, 43, 47, 53, 59, 61, 67, 71, 73, 79, 83, 89, 97]\n",
    "    lettercountarray = [3, 5, 4, 5,  6,  8,  9,  8, 11, 10,  9, 11,  8, 10, 10, 10,  9,  8, 10, 10, 12, 11, 11, 10, 11]\n",
    "    newarray = []\n",
    "    count = 0\n",
    "    for i in range(len(primearray)):\n",
    "        if primearray[i] < n:\n",
    "            newarray += [primearray[i]]\n",
    "            count += lettercountarray[i]            \n",
    "    print(\"The prime numbers below\", n, \" are \", newarray)\n",
    "    return count\n",
    "\n",
    "\n",
    "count_prime_letters(99)"
   ]
  },
  {
   "cell_type": "markdown",
   "id": "0ee5cb1a",
   "metadata": {},
   "source": [
    "Problem 2\n",
    "A perfect square is a number that can be expressed as a product of an integer with itself.\n",
    "(For example, 49 is the product of 7 with itself).A function F (N ) is defined such that it returns the\n",
    "sum of all perfect squares less than or equal to N, where N is a positive integer. An advanced\n",
    "version of F (N ), function get_square_sum(M, N ) , is defined such that it applies operation\n",
    "F (N ) ’M’ times to the result of the previous operation, starting from N.\n",
    "Write the function get_square_sum(M, N ).You may assume M >= 1, N >= 1."
   ]
  },
  {
   "cell_type": "code",
   "execution_count": 67,
   "id": "623a1f8b",
   "metadata": {},
   "outputs": [
    {
     "data": {
      "text/plain": [
       "140"
      ]
     },
     "execution_count": 67,
     "metadata": {},
     "output_type": "execute_result"
    }
   ],
   "source": [
    "def get_square_sum(M,N):\n",
    "    for i in range(M):\n",
    "        output = 0\n",
    "        for j in range(N):\n",
    "            if j**2 <= N:\n",
    "                output += j**2\n",
    "        N = output\n",
    "    return output\n",
    "\n",
    "get_square_sum(3, 20)"
   ]
  },
  {
   "cell_type": "markdown",
   "id": "24f6444f",
   "metadata": {},
   "source": [
    "Problem 3\n",
    "Every integer can be represented in binary notation, which is a string of 1s and 0s.\n",
    "For example,\n",
    "2 = 10\n",
    "7 = 111\n",
    "8 = 1000\n",
    "You can explore this in python by using the python function ‘bin‘.\n",
    "Given an Integer N. The task is to find the second set bit position and return the position. If\n",
    "an Integer is not having the second bit set, return -1. The second set bit position is the index of\n",
    "the second 1 in the binary representation of a number when viewed from right to left."
   ]
  },
  {
   "cell_type": "code",
   "execution_count": 97,
   "id": "4af98754",
   "metadata": {
    "scrolled": true
   },
   "outputs": [
    {
     "data": {
      "text/plain": [
       "-1"
      ]
     },
     "execution_count": 97,
     "metadata": {},
     "output_type": "execute_result"
    }
   ],
   "source": [
    "def check_bit(N):\n",
    "    a = bin(N)\n",
    "    count = 0\n",
    "    position = -1\n",
    "    for i in range(len(a)):\n",
    "        if a[len(a)-i-1] == \"1\":\n",
    "            count += 1\n",
    "            if count == 2:\n",
    "                position = i + 1\n",
    "    return(position)\n",
    "    \n",
    "check_bit(8)"
   ]
  },
  {
   "cell_type": "markdown",
   "id": "92388f5d",
   "metadata": {},
   "source": [
    "Problem 4\n",
    "Given a 3 digit prime number n, print an integer that is perfectly divisible by 7, 11, 13 and n.\n",
    "Accomplish the above task without using arithmetic operator ’*’ or any kind of loop or recursion,\n",
    "and clearly explain your solution in the comments."
   ]
  },
  {
   "cell_type": "code",
   "execution_count": 95,
   "id": "dbd09e9d",
   "metadata": {},
   "outputs": [
    {
     "data": {
      "text/plain": [
       "101101"
      ]
     },
     "execution_count": 95,
     "metadata": {},
     "output_type": "execute_result"
    }
   ],
   "source": [
    "def find_multiple(n):\n",
    "    a = (str(n) + str(n))   #the reason why this works is that 7*11*13 = 1,001.  Any 3 digit number (xyz) times 1,001, \n",
    "                            #will be xyz,xyz!  So you can just take the input, n, and write it out twice and it will be \n",
    "                            #divisible by 7, 11, 13, and n!\n",
    "    b = int(a)\n",
    "    return b\n",
    "\n",
    "find_multiple(101)\n",
    "\n",
    "    "
   ]
  },
  {
   "cell_type": "markdown",
   "id": "eb929b3a",
   "metadata": {},
   "source": [
    "Problem 5\n",
    "There are ‘n’ number of teams participating in a football tournament. In every match the winning\n",
    "team is awarded 3 points while the losing team receives 0 points.\n",
    "In case of a tie, both the teams receive 1 point each. Given three arrays matches_won, matches_drawn\n",
    "and goals_scored each of length ‘n’ with value at matches_won[i] indicating number of matches\n",
    "the ith team won, matches_drawn[i] indicating the number of matches played by ith team that\n",
    "resulted in a tie and goals_scored[i] indicating the number of goals scored by the ith team in the\n",
    "entire tournament([0,n)).\n",
    "The team with the most number of points is declared the champions of the tournament. In case\n",
    "two or more teams score the same number of points the team with the highest number of goals\n",
    "scored in the tournament is declared the winner. Assuming there is always a unique winner,\n",
    "return the index of the winning team."
   ]
  },
  {
   "cell_type": "code",
   "execution_count": 128,
   "id": "eb4de0c8",
   "metadata": {},
   "outputs": [
    {
     "data": {
      "text/plain": [
       "3"
      ]
     },
     "execution_count": 128,
     "metadata": {},
     "output_type": "execute_result"
    }
   ],
   "source": [
    "def find_the_winner(matches_won , matches_drawn , goals_scored):\n",
    "    points = []\n",
    "    for i in range(len(matches_won)):\n",
    "        points += [0]\n",
    "    for i in range(len(matches_won)):\n",
    "        points[i] = matches_won[i]*3\n",
    "    for j in range(len(matches_drawn)):\n",
    "        points[j] += matches_drawn[j]\n",
    "    max = 0\n",
    "    for k in range(len(points)):\n",
    "        if points[k] > max:\n",
    "            max = points[k]\n",
    "    maxscore = -1\n",
    "    for m in range(len(points)):\n",
    "        if points[m] == max:\n",
    "            if scored[m] > maxscore:\n",
    "                maxscore = scored[m]\n",
    "                winner = m\n",
    "\n",
    "    return winner\n",
    "\n",
    "won = [1,2,5,4]\n",
    "drawn = [9,6,0,3]\n",
    "scored = [6,0,2,3]\n",
    "\n",
    "find_the_winner(won, drawn, scored)"
   ]
  },
  {
   "cell_type": "markdown",
   "id": "7de16621",
   "metadata": {},
   "source": [
    "Problem 6\n",
    "Mr.Jack spent his last weekend busy decoding the cipher to open the lock of a treasure.\n",
    "He was able to decode at the end but figured out from Mr. Smith later that the decoded string\n",
    "wouldn’t be valid as there are some extra characters added into the string.\n",
    "Mr.Smith knew that the characters which were added to the string are the 3rd occurrences of\n",
    "the character. Could you help Mr.Jack to figure out the cipher."
   ]
  },
  {
   "cell_type": "code",
   "execution_count": 197,
   "id": "75dd11e2",
   "metadata": {},
   "outputs": [
    {
     "name": "stdout",
     "output_type": "stream",
     "text": [
      "['a']\n",
      "[6]\n"
     ]
    },
    {
     "data": {
      "text/plain": [
       "'aaaa'"
      ]
     },
     "execution_count": 197,
     "metadata": {},
     "output_type": "execute_result"
    }
   ],
   "source": [
    "def decoded_String(S):\n",
    "    arrayofchars = []\n",
    "    countofarrayofchars = []\n",
    "    workingarray = []\n",
    "    count = 0\n",
    "    for char in S:\n",
    "        workingarray += [char]\n",
    "        if char in arrayofchars:\n",
    "            for i in range(len(arrayofchars)):\n",
    "                if arrayofchars[i] == char:\n",
    "                    countofarrayofchars[i] += 1\n",
    "                    if countofarrayofchars[i]%3 == 0:  \n",
    "                        workingarray.pop()\n",
    "        else:\n",
    "            arrayofchars += [char]\n",
    "            \n",
    "            countofarrayofchars += [1]\n",
    "    print(arrayofchars)\n",
    "    print(countofarrayofchars)\n",
    "    S = ''.join(str(x) for x in workingarray)\n",
    "    return S\n",
    "\n",
    "decoded_String(\"aaaaaa\")\n",
    "\n"
   ]
  },
  {
   "cell_type": "code",
   "execution_count": null,
   "id": "62e8cfb7",
   "metadata": {},
   "outputs": [],
   "source": []
  },
  {
   "cell_type": "code",
   "execution_count": null,
   "id": "9efef395",
   "metadata": {},
   "outputs": [],
   "source": []
  }
 ],
 "metadata": {
  "kernelspec": {
   "display_name": "Python 3 (ipykernel)",
   "language": "python",
   "name": "python3"
  },
  "language_info": {
   "codemirror_mode": {
    "name": "ipython",
    "version": 3
   },
   "file_extension": ".py",
   "mimetype": "text/x-python",
   "name": "python",
   "nbconvert_exporter": "python",
   "pygments_lexer": "ipython3",
   "version": "3.9.12"
  }
 },
 "nbformat": 4,
 "nbformat_minor": 5
}
