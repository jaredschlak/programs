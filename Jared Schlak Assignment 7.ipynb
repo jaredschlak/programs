{
 "cells": [
  {
   "cell_type": "markdown",
   "id": "91c6cac3",
   "metadata": {},
   "source": [
    "Assignment 7 Problem 1\n",
    "Jared Schlak\n",
    "Nov 1, 2022\n",
    "\n",
    "Problem 1\n",
    "Given a vehicle of capacity k travels in a straight line(starts from point 0 and travels in positive\n",
    "direction). Given a list h of n values(each a list of size 2) where h[i][0] indicates the pickup\n",
    "point where the ith person intends to get on the vehicle and h[i][1] indicates the destination point\n",
    "where the ith person intends to get off the vehicle. Once the vehicle’s capacity is reached, the\n",
    "driver doesn’t allow more people to board the vehicle. Return the minimum number of seats the\n",
    "vehicle should have had in addition to what it already does so as to accommodate all the people\n",
    "along the way."
   ]
  },
  {
   "cell_type": "code",
   "execution_count": 190,
   "id": "3b9fad57",
   "metadata": {},
   "outputs": [
    {
     "name": "stdout",
     "output_type": "stream",
     "text": [
      "[[0, 1], [0, 1], [1, 1], [2, 0], [2, 0], [3, 0], [2, 1], [3, 0]]\n"
     ]
    },
    {
     "data": {
      "text/plain": [
       "1"
      ]
     },
     "execution_count": 190,
     "metadata": {},
     "output_type": "execute_result"
    }
   ],
   "source": [
    "import heapq\n",
    "\n",
    "def additional_seats(k,h):\n",
    "\n",
    "    array = []\n",
    "    count = 0\n",
    "    max_seats = 0\n",
    "    for i in range(len(h)):\n",
    "        array.append([h[i][0],1])\n",
    "        array.append([h[i][1],0])\n",
    "    heapq.heapify(array)\n",
    "    print(array)\n",
    "    for i in range(len(array)):\n",
    "        if array[i][1] == 1:\n",
    "            count += 1\n",
    "        elif array[i][1] == 0:\n",
    "            count -=1\n",
    "        if count > max_seats:\n",
    "            max_seats = count\n",
    "            \n",
    "    ans = max_seats - k  \n",
    "    if ans < 0:\n",
    "        ans = 0\n",
    "    return ans     \n",
    "            \n",
    "additional_seats(2, [[0,2],[1,2],[0,3],[2,3]])"
   ]
  },
  {
   "cell_type": "markdown",
   "id": "40959f34",
   "metadata": {},
   "source": [
    "Assignment 7 Problem 2\n",
    "Jared Schlak\n",
    "Nov 1, 2022\n",
    "\n",
    "Problem 2\n",
    "An XYZ shipping company, At the conclusion of each quarter, releases a list of the routes that\n",
    "received the most deliveries during that quarter. At the end of the year, we’ll have four lists, one\n",
    "for each quarter. The shipping company wants to use these lists to show the board of directors\n",
    "the smallest range that includes at least one element from each of the four quarters so that they\n",
    "can use it to market their company with the fewest amount of resources possible and try to open\n",
    "a new warehouse in that range. For simplicity all lists would be in sorted order. Expected time\n",
    "complexity is O(nlogM) where n is the total number of elements present in M lists."
   ]
  },
  {
   "cell_type": "code",
   "execution_count": 216,
   "id": "ebc9a972",
   "metadata": {},
   "outputs": [
    {
     "name": "stdout",
     "output_type": "stream",
     "text": [
      "the minimum range is ( 4 , 6 )\n",
      "the minimum range is ( 4 , 7 )\n"
     ]
    },
    {
     "data": {
      "text/plain": [
       "(4, 7)"
      ]
     },
     "execution_count": 216,
     "metadata": {},
     "output_type": "execute_result"
    }
   ],
   "source": [
    "import heapq\n",
    "\n",
    "def minimum_range(list1, list2, list3, list4):\n",
    "    \n",
    "    for i in range(len(list1)):\n",
    "        list1[i] = [list1[i],1]\n",
    "    \n",
    "    for i in range(len(list2)):\n",
    "        list2[i] = [list2[i],2]\n",
    "    \n",
    "    for i in range(len(list3)):\n",
    "        list3[i] = [list3[i],3]\n",
    "    \n",
    "    for i in range(len(list4)):\n",
    "        list4[i] = [list4[i],4]\n",
    "    \n",
    "    a = heapq.heappop(list1)\n",
    "    b = heapq.heappop(list2)\n",
    "    c = heapq.heappop(list3)\n",
    "    d = heapq.heappop(list4)\n",
    "    array = [a, b, c, d]\n",
    "    min_range = float('inf')\n",
    "    min_range_min = float('inf')\n",
    "    min_range_max = float('inf')\n",
    "    \n",
    "    while a != None and b != None and c != None and d != None:\n",
    "        heapq.heapify(array)\n",
    "        minimum = array[0][0]\n",
    "        maximum = max(array[0][0], array[1][0], array[2][0], array[3][0])\n",
    "        minrange = maximum - minimum\n",
    "        if minrange < min_range:\n",
    "            min_range = minrange\n",
    "            min_range_min = minimum\n",
    "            min_range_max = maximum\n",
    "        popped_item = heapq.heappop(array)\n",
    "        if popped_item[1] == 1:\n",
    "            try:\n",
    "                a = heapq.heappop(list1)\n",
    "                heapq.heappush(array, a)\n",
    "            except:\n",
    "                break\n",
    "        if popped_item[1] == 2:\n",
    "            try:\n",
    "                a = heapq.heappop(list2)\n",
    "                heapq.heappush(array, a)\n",
    "            except:\n",
    "                break\n",
    "        if popped_item[1] == 3:\n",
    "            try:\n",
    "                a = heapq.heappop(list3)\n",
    "                heapq.heappush(array, a)\n",
    "            except:\n",
    "                break\n",
    "        if popped_item[1] == 4:\n",
    "            try:\n",
    "                a = heapq.heappop(list4)\n",
    "                heapq.heappush(array, a)\n",
    "            except:\n",
    "                break\n",
    "        heapq.heapify(array)\n",
    "    \n",
    "    print(\"the minimum range is (\",min_range_min, \",\" , min_range_max ,\")\" ) \n",
    "    return (min_range_min, min_range_max)\n",
    "\n",
    "minimum_range([3, 6, 8, 10, 15],[ 1, 5, 12 ],[ 4, 8, 15, 16 ],[ 2, 6 ])\n",
    "minimum_range([ 2, 3, 4, 8, 10, 15 ],[ 1, 5, 12 ],[ 7, 8, 15, 16 ],[ 3, 6 ])\n"
   ]
  },
  {
   "cell_type": "markdown",
   "id": "ec5bdff8",
   "metadata": {},
   "source": [
    "Assignment 7 Problem 3\n",
    "Jared Schlak\n",
    "Nov 1, 2022\n",
    "\n",
    "Problem 3\n",
    "Given a string s, write a function ‘encode‘ that returns the Huffman encoding of that string as a\n",
    "string of 0s and 1s and the Huffman dictionary as a tuple. Write another function ‘decode‘ which\n",
    "takes the encoded string and a Huffman dictionary and returns the original string. Note that the\n",
    "composition of encode and decode should be the identity function, i.e decode(*encode(s)) = s.\n",
    "You can use that fact to test your code."
   ]
  },
  {
   "cell_type": "code",
   "execution_count": 217,
   "id": "30aae10a",
   "metadata": {},
   "outputs": [
    {
     "name": "stdout",
     "output_type": "stream",
     "text": [
      "('001011', {'a': '0', 'b': '10', 'c': '11'})\n",
      "aabc\n"
     ]
    }
   ],
   "source": [
    "import heapq\n",
    "\n",
    "def encode(s):\n",
    "    dictionary = {}\n",
    "    for char in s:\n",
    "        if char not in dictionary:\n",
    "            dictionary[char] = 1\n",
    "        else:\n",
    "            dictionary[char] += 1\n",
    "            \n",
    "    array = []\n",
    "    for item in dictionary:\n",
    "        miniarray = []\n",
    "        miniarray.append(dictionary[item])\n",
    "        miniarray.append(item)\n",
    "        array.append(miniarray)\n",
    "        dictionary[item] = \"\"\n",
    "    heapq.heapify(array)\n",
    "    \n",
    "    \n",
    "    while len(array)>1:\n",
    "        a = heapq.heappop(array)\n",
    "        b = heapq.heappop(array)\n",
    "        if len(a[1]) == 1:\n",
    "            dictionary[a[1]] += \"0\" \n",
    "        else:\n",
    "            for char in a[1]:\n",
    "                dictionary[char] += \"0\"\n",
    "        if len(b[1]) == 1:\n",
    "            dictionary[b[1]] += \"1\"\n",
    "        else:\n",
    "            for char in b[1]:\n",
    "                dictionary[char] += \"1\" \n",
    "        heapq.heappush(array, [a[0]+b[0], a[1]+b[1]])\n",
    "    for item in dictionary:\n",
    "        dictionary[item] = dictionary[item][::-1]\n",
    "    string = \"\"\n",
    "    for i in range(len(s)):\n",
    "        string +=  dictionary[s[i]]\n",
    "    return (string, dictionary) \n",
    "    \n",
    "def decode(s, d):\n",
    "    \n",
    "    string = \"\"\n",
    "    for item in s:\n",
    "        for key,value in d.items():\n",
    "            if value == s[0:len(value)]:\n",
    "                string += key\n",
    "                s = s[len(value):]\n",
    "               \n",
    "    return (string) \n",
    "\n",
    "def main():\n",
    "    s = \"aabc\" \n",
    "    encoded = encode(s)\n",
    "    print(encoded)\n",
    "    decoded = decode(*encode(s))\n",
    "    print(decoded)\n",
    "    \n",
    "main()"
   ]
  },
  {
   "cell_type": "markdown",
   "id": "bb34a6e5",
   "metadata": {},
   "source": [
    "Assignment 7 Problem 4\n",
    "Jared Schlak\n",
    "Nov 1, 2022\n",
    "\n",
    "Problem 4\n",
    "You are given a list of 3 positive integers. You are allowed to make a decrement to any two of\n",
    "the three (non zero) integers in a single move. Your objective is to find the maximum number\n",
    "of moves you can play before you run out of valid moves (i.e there are less than two non-zero\n",
    "integers left)."
   ]
  },
  {
   "cell_type": "code",
   "execution_count": 221,
   "id": "e46bca8a",
   "metadata": {},
   "outputs": [
    {
     "data": {
      "text/plain": [
       "6"
      ]
     },
     "execution_count": 221,
     "metadata": {},
     "output_type": "execute_result"
    }
   ],
   "source": [
    "def max_moves(list) -> int:\n",
    "    max_number = max(list)\n",
    "    list.remove(max_number)\n",
    "    min_num_1 = list[0]\n",
    "    min_num_2 = list[1]\n",
    "    if min_num_1 + min_num_2 <= max_number:\n",
    "        return min_num_1 + min_num_2\n",
    "    else:\n",
    "        return ((min_num_1 + min_num_2 + max_number) // 2)\n",
    "    \n",
    "    \n",
    "max_moves([2, 4, 6])\n"
   ]
  },
  {
   "cell_type": "code",
   "execution_count": null,
   "id": "28df9095",
   "metadata": {},
   "outputs": [],
   "source": []
  }
 ],
 "metadata": {
  "kernelspec": {
   "display_name": "Python 3 (ipykernel)",
   "language": "python",
   "name": "python3"
  },
  "language_info": {
   "codemirror_mode": {
    "name": "ipython",
    "version": 3
   },
   "file_extension": ".py",
   "mimetype": "text/x-python",
   "name": "python",
   "nbconvert_exporter": "python",
   "pygments_lexer": "ipython3",
   "version": "3.9.12"
  }
 },
 "nbformat": 4,
 "nbformat_minor": 5
}
