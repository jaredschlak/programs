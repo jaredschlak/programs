{
 "cells": [
  {
   "cell_type": "markdown",
   "id": "ba6f78f5",
   "metadata": {
    "pycharm": {
     "name": "#%% md\n"
    }
   },
   "source": [
    "Problem 1\n",
    "Let us implement the amoritized dictionary in python as a class using python dicitonary. The\n",
    "dictionary keys acts levels and values of the dicitonaries are list of elements. The level i contains\n",
    "either 2i elements or no elements at all. If the level has elements , then all the elements are in\n",
    "sorted order.For this class implement search, insert, print methods."
   ]
  },
  {
   "cell_type": "code",
   "execution_count": null,
   "outputs": [],
   "source": [
    "class amor_dict():\n",
    "    def __init__(self, array=[]):\n",
    "        self.array = array\n",
    "        self.dictionary = {}\n",
    "        n = len(self.array)\n",
    "        binary_of_n = (bin(n)[2:])\n",
    "        length_of_binary_of_n = len(binary_of_n)\n",
    "\n",
    "        k=0\n",
    "        count = 0\n",
    "        for i in range(length_of_binary_of_n-1,-1,-1):\n",
    "            numberofelements = 2**count\n",
    "            self.dictionary[count]=[]*numberofelements\n",
    "            if binary_of_n[i] == \"1\":\n",
    "                for j in range(numberofelements):\n",
    "                    self.dictionary[count].append(self.array.pop(0))\n",
    "            count += 1\n",
    "        for values in self.dictionary.values():\n",
    "            values.sort()\n",
    "        \n",
    "        print(self.dictionary)\n",
    "    \n",
    "    def insert(self , num):\n",
    "        array = [num]\n",
    "        for i in range(len(self.dictionary.keys())+1):\n",
    "            try:\n",
    "                if self.dictionary[i]  == []:\n",
    "                    self.dictionary[i] += array\n",
    "                    print(self.dictionary)\n",
    "                    return\n",
    "            except KeyError:\n",
    "                self.dictionary[i] = array\n",
    "                print(self.dictionary)\n",
    "                return\n",
    "            else:\n",
    "                while self.dictionary[i] != []:\n",
    "                    value = self.dictionary[i].pop(0)\n",
    "                    array.append(value)\n",
    "                array.sort()\n",
    "            \n",
    "        \n",
    "    def search(self , num):\n",
    "        level = -1\n",
    "        for i in self.dictionary:\n",
    "            if len(self.dictionary[i]) > 0:\n",
    "                if self.binary_search(self.dictionary[i], 0, len(self.dictionary[i])-1, num ):\n",
    "                    level = i\n",
    "                    print(\"Level\", i)\n",
    "                    break\n",
    "        if level == -1:\n",
    "            print(\"Level\", level)\n",
    "        \n",
    "    def binary_search(self, array, start_index, end_index, num):\n",
    "        middle_index = int((start_index + end_index)/2)\n",
    "        if array[middle_index] == num:\n",
    "            return True\n",
    "        elif start_index == end_index:\n",
    "            return False\n",
    "        elif array[middle_index] < num:\n",
    "            return self.binary_search(array, middle_index + 1, end_index, num)\n",
    "        elif array[middle_index] > num:\n",
    "            return self.binary_search(array, start_index, middle_index -1, num)\n",
    "      \n",
    "        \n",
    "        \n",
    "    def print(self):\n",
    "        for items in self.dictionary:\n",
    "            if self.dictionary[items] == []:\n",
    "                print(items , \"level -> empty\")\n",
    "            else:\n",
    "                print(items , \"level ->\", self.dictionary[items])\n",
    "    \n",
    "\n",
    "dict1 = amor_dict([0, 5, 1, 2, 4, 3, 7])\n",
    "dict1.print()\n",
    "dict1.search(1)\n",
    "dict1.insert(9)\n",
    "dict1.print()\n",
    "dict1.search(1)\n",
    "dict1.insert(11)\n",
    "dict1.print()\n",
    "dict1.search(11)\n",
    "dict1.search(10)\n"
   ],
   "metadata": {
    "collapsed": false,
    "pycharm": {
     "name": "#%%\n"
    }
   }
  },
  {
   "cell_type": "markdown",
   "source": [
    "Problem 5\n",
    "Lydia being a professor would like to explain students a concept of sequence of digit strings,\n",
    "given integer n, return the nth term of the count digit sequence, Let’s help students in implement-\n",
    "ing a recursion approach for the given problem. For example, the given digit string \"3322251\"\n",
    "can be interpreted as two 3’s, three 2’s, one 5 and one 1, In numerical string form this can\n",
    "be written “23321511”, Now for any given integer n, return the nth term of count_digit_string\n",
    "sequence."
   ],
   "metadata": {
    "collapsed": false,
    "pycharm": {
     "name": "#%% md\n"
    }
   }
  },
  {
   "cell_type": "code",
   "execution_count": null,
   "outputs": [],
   "source": [
    "def count_digit_string(n):\n",
    "    if n <= 1:\n",
    "        return \"1\"\n",
    "    else:\n",
    "        count = 1\n",
    "        string = count_digit_string(n-1)\n",
    "        previous = string[0]\n",
    "        result_of_string = \"\"\n",
    "        for index, character in enumerate(string):\n",
    "            if index == 0:\n",
    "                previous = character\n",
    "            if index != 0 and character == previous:\n",
    "                count += 1\n",
    "            if index != 0 and character != previous:\n",
    "                result_of_string += (str(count)+string[index-1])\n",
    "                count = 1\n",
    "                previous = string[index]\n",
    "            if index == len(string)-1:\n",
    "                result_of_string += (str(count)+string[index])\n",
    "                \n",
    "            \n",
    "            \n",
    "        return result_of_string\n",
    "\n",
    "    \n",
    "for i in range(1,10):\n",
    "    print(count_digit_string(i))\n"
   ],
   "metadata": {
    "collapsed": false,
    "pycharm": {
     "name": "#%%\n"
    }
   }
  },
  {
   "cell_type": "code",
   "execution_count": null,
   "id": "b497eaa6",
   "metadata": {
    "pycharm": {
     "name": "#%%\n"
    }
   },
   "outputs": [],
   "source": []
  },
  {
   "cell_type": "code",
   "execution_count": null,
   "id": "5a52fa95",
   "metadata": {
    "pycharm": {
     "name": "#%%\n"
    }
   },
   "outputs": [],
   "source": []
  }
 ],
 "metadata": {
  "kernelspec": {
   "display_name": "Python 3 (ipykernel)",
   "language": "python",
   "name": "python3"
  },
  "language_info": {
   "codemirror_mode": {
    "name": "ipython",
    "version": 3
   },
   "file_extension": ".py",
   "mimetype": "text/x-python",
   "name": "python",
   "nbconvert_exporter": "python",
   "pygments_lexer": "ipython3",
   "version": "3.9.12"
  }
 },
 "nbformat": 4,
 "nbformat_minor": 5
}