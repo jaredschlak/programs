{
 "cells": [
  {
   "cell_type": "markdown",
   "id": "4c61df1c",
   "metadata": {},
   "source": [
    "Problem 1\n",
    "Assignment 6\n",
    "Jared Schlak - Applied Algorithms\n",
    "\n",
    "Problem 1\n",
    "1.Given an integer n(1 <= n <= 10^5), find the minimum number of 1’s required to obtain n if\n",
    "you are allowed to hit the following three functions in any order any number of times . Desired\n",
    "time Complexity (O(n2)), desired space complexity (O(n))."
   ]
  },
  {
   "cell_type": "code",
   "execution_count": 248,
   "id": "331db7b8",
   "metadata": {},
   "outputs": [
    {
     "name": "stdout",
     "output_type": "stream",
     "text": [
      "4\n"
     ]
    }
   ],
   "source": [
    "def main(n):\n",
    "    dict1 = {1:1}\n",
    "    while n >= len(dict1):\n",
    "        i = 1\n",
    "        curr = len(dict1) + 1\n",
    "        min = curr\n",
    "        while i < curr / 2 +1:\n",
    "            if dict1[i] + dict1[curr - i] < min:\n",
    "                min = dict1[i] + dict1[curr - i]\n",
    "            i += 1\n",
    "        for i in range(2, curr//2 + 1):\n",
    "            if curr % i == 0:\n",
    "                if dict1[i] + dict1[int(curr/i)] < min:\n",
    "                    min = dict1[i] + dict1[curr/i]\n",
    "        strcurr = str(curr)\n",
    "        minsplit = 0\n",
    "        if len(strcurr) > 1:\n",
    "            for i in range(1, len(strcurr)):\n",
    "                try:\n",
    "                    if strcurr[i] != \"0\":\n",
    "                        minsplit = dict1[int(strcurr[:i])] + dict1[int(strcurr[i:])]\n",
    "                        if minsplit < min:\n",
    "                            min = minsplit\n",
    "                except:\n",
    "                    pass\n",
    "                    \n",
    "            \n",
    "        dict1.update({curr : min})\n",
    "    print(dict1[n])\n",
    "main(22)\n",
    "    "
   ]
  },
  {
   "cell_type": "markdown",
   "id": "109b4059",
   "metadata": {},
   "source": [
    "Problem 2\n",
    "Assignment 6\n",
    "Jared Schlak - Applied Algorithms\n",
    "\n",
    "Problem 2\n",
    "A robot can only walk in one of the four directions (left, right, top, bottom). The grid it is walking\n",
    "on is labeled with characters of the English alphabet. The programmers of the robot have now\n",
    "constrained its motion further. It can step from a grid cell A to grid cell B, if the character on cell\n",
    "A is less than the character on cell B.\n",
    "The ordering on the characters is the lexicographic ordering.\n",
    "Write a program that computes the maximum number of steps that the robot can take starting\n",
    "at any grid cell."
   ]
  },
  {
   "cell_type": "code",
   "execution_count": 240,
   "id": "6d62cd75",
   "metadata": {},
   "outputs": [
    {
     "name": "stdout",
     "output_type": "stream",
     "text": [
      "[[1, 2, 0], [2, 4, 1], [0, 3, 2]]\n"
     ]
    },
    {
     "data": {
      "text/plain": [
       "4"
      ]
     },
     "execution_count": 240,
     "metadata": {},
     "output_type": "execute_result"
    }
   ],
   "source": [
    "def max_steps(grid):\n",
    "\n",
    "    rows = len(grid)\n",
    "    cols = len(grid[0])\n",
    "    \n",
    "    \n",
    "    grid_results = [[0 for _ in range(cols)] for _ in range(rows)]\n",
    "    \n",
    "    for x in range(rows*cols):\n",
    "        for i in range(rows):\n",
    "            for j in range(cols):\n",
    "                try:\n",
    "                    if grid[i][j] < grid[i+1][j]:\n",
    "                        grid_results[i][j] = 1 + int(grid_results[i+1][j])\n",
    "                except:\n",
    "                    pass\n",
    "                try:\n",
    "                    if grid[i][j] < grid[i-1][j]:\n",
    "                        grid_results[i][j] = 1 + int(grid_results[i-1][j])\n",
    "                except:\n",
    "                    pass\n",
    "                try:\n",
    "                    if grid[i][j] < grid[i][j+1]:\n",
    "                        grid_results[i][j] = 1 + int(grid_results[i][j+1])\n",
    "                except:\n",
    "                    pass\n",
    "                try:\n",
    "                    if grid[i][j] < grid[i][j-1]:\n",
    "                        grid_results[i][j] = 1 + int(grid_results[i][j-1])\n",
    "                except:\n",
    "                    pass      \n",
    "\n",
    "    for x in range(rows*cols):\n",
    "        for i in range(rows):\n",
    "            for j in range(cols):\n",
    "                max = 0\n",
    "                try:\n",
    "                    if grid[i][j] < grid[i+1][j]:\n",
    "                        if grid_results[i+1][j] > max:\n",
    "                            max = grid_results[i+1][j]\n",
    "                            grid_results[i][j] = 1 + max\n",
    "                except:\n",
    "                    pass\n",
    "                try:\n",
    "                    if grid[i][j] < grid[i-1][j]:\n",
    "                        if grid_results[i-1][j] > max:\n",
    "                            max = grid_results[i-1][j]\n",
    "                            grid_results[i][j] = 1 + max\n",
    "                except:\n",
    "                    pass\n",
    "                try:\n",
    "                    if grid[i][j] < grid[i][j+1]:\n",
    "                        if grid_results[i][j+1] > max:\n",
    "                            max = grid_results[i][j+1]\n",
    "                            grid_results[i][j] = 1 + max\n",
    "                except:\n",
    "                    pass\n",
    "                try:\n",
    "                    if grid[i][j] < grid[i][j-1]:\n",
    "                        if grid_results[i][j-1] > max:\n",
    "                            max = grid_results[i][j-1]\n",
    "                            grid_results[i][j] = 1 + max\n",
    "                except:\n",
    "                    pass\n",
    "                \n",
    "    print(grid_results)\n",
    "    max_number = 0\n",
    "    for i in range(rows):\n",
    "        for j in range(cols):\n",
    "            if grid_results[i][j] > max_number:\n",
    "                max_number = grid_results[i][j]\n",
    "    return max_number\n",
    "            \n",
    "\n",
    "max_steps([[\"t\",\"o\",\"y\"],[\"c\",\"a\",\"t\"],[\"t\",\"o\",\"p\"]])"
   ]
  },
  {
   "cell_type": "markdown",
   "id": "b521df33",
   "metadata": {},
   "source": [
    "Problem 3\n",
    "Assignment 6\n",
    "Jared Schlak - Applied Algorithms\n",
    "\n",
    "Problem 3\n",
    "Pushpa, a professional thief, wanted to steal coconuts from forest.In the forest the coconut trees\n",
    "are in a straight line. Each tree has a certain number of coconuts, the only constraint is that if\n",
    "you rob from the adjacent coconut trees, an alert will be sent to the forest officials who will arrest\n",
    "Pushpa. Write a program to find the maximum number of coconuts pushpa can steal without\n",
    "getting caught."
   ]
  },
  {
   "cell_type": "code",
   "execution_count": 249,
   "id": "a9b961bc",
   "metadata": {},
   "outputs": [
    {
     "name": "stdout",
     "output_type": "stream",
     "text": [
      "[[0, 1, 2, 3], [0, 0, 0, 0], [2, 2, 2, 2], [7, 7, 7, 7], [9, 9, 11, 11], [3, 9, 11, 11], [1, 9, 11, 12]]\n"
     ]
    },
    {
     "data": {
      "text/plain": [
       "12"
      ]
     },
     "execution_count": 249,
     "metadata": {},
     "output_type": "execute_result"
    }
   ],
   "source": [
    "import math\n",
    "\n",
    "def get_max_coconuts(nums):\n",
    "\n",
    "    \n",
    "    rows = len(nums)+2\n",
    "    cols = math.ceil(len(nums)/2)+1\n",
    "    m = [[0 for i in range(cols)] for i in range(rows)]\n",
    "    \n",
    "    for i in range(rows - 2):\n",
    "        m[i+2][0] = nums[i]\n",
    "        \n",
    "    maxnum = nums[0]    \n",
    "    for i in range(rows - 2):\n",
    "        if nums[i] > maxnum:\n",
    "            maxnum = nums[i]\n",
    "        m[i+2][1] = maxnum\n",
    "        \n",
    "    for j in range(cols):\n",
    "        m[0][j] = j\n",
    "    for j in range(cols):\n",
    "        m[1][j] = m[1][0]\n",
    "    for j in range(cols):\n",
    "        m[2][j] = m[2][0]\n",
    "        \n",
    "    \n",
    "    for i in range(3,rows):\n",
    "        for j in range(2, cols):\n",
    "            m[i][j] = max(m[i-1][j],m[i][j-1],m[i-2][j-1]+m[i][0])\n",
    "                \n",
    "    print(m)\n",
    "    return m[i][j]\n",
    "get_max_coconuts([2, 7, 9, 3, 1])"
   ]
  },
  {
   "cell_type": "markdown",
   "id": "8a489952",
   "metadata": {},
   "source": [
    "Problem 4\n",
    "Assignment 6\n",
    "Jared Schlak - Applied Algorithms\n",
    "\n",
    "Problem 4\n",
    "Ujwala has given a list of non-negative integers and a target, the task is to find the sum of sub\n",
    "list numbers which are divisible by target and return those list of numbers. If sum is not found\n",
    "in list return empty list."
   ]
  },
  {
   "cell_type": "code",
   "execution_count": 250,
   "id": "9b195cad",
   "metadata": {},
   "outputs": [
    {
     "data": {
      "text/plain": [
       "[5, 1]"
      ]
     },
     "execution_count": 250,
     "metadata": {},
     "output_type": "execute_result"
    }
   ],
   "source": [
    "def subset_divisible(A, target):\n",
    "    rows = len(A) + 2\n",
    "    cols = target + 2\n",
    "    m = [[0 for i in range(cols)] for i in range(rows)]\n",
    "    \n",
    "    \n",
    "    for i in range(rows-2):\n",
    "        m[i+2][0] = A[i]\n",
    "    for i in range(rows-2):\n",
    "        m[i+2][1] = True\n",
    "        \n",
    "    for j in range(1, cols):\n",
    "        if j == 1:\n",
    "            m[1][j] = True \n",
    "        else:\n",
    "            m[1][j] = False \n",
    "    \n",
    "    for j in range(1, cols - 1):\n",
    "        m[0][j+1] = j\n",
    "   \n",
    "\n",
    "    \n",
    "    for i in range(2,rows):\n",
    "        for j in range(2, cols):\n",
    "            if (m[i-1][j] == True):\n",
    "                m[i][j] = True\n",
    "            elif m[i][0] <= j-1:\n",
    "                if (m[i-1][j-(m[i][0])]==True):\n",
    "                    m[i][j] = True\n",
    "                else:\n",
    "                    m[i][j] = False\n",
    "            else:\n",
    "                m[i][j] = False\n",
    "    \n",
    "    array = []\n",
    "    while m[i][j] == True:\n",
    "        i -= 1\n",
    "        if j == 1:\n",
    "            break\n",
    "        if m[i][j] == False:\n",
    "            array.append(m[i+1][0])\n",
    "            j = j - (m[i+1][0])\n",
    "              \n",
    "    return(array)\n",
    "    \n",
    "subset_divisible([3, 1, 7, 5], 6)"
   ]
  },
  {
   "cell_type": "raw",
   "id": "543c32e2",
   "metadata": {},
   "source": [
    "Problem 5\n",
    "Assignment 6\n",
    "Jared Schlak - Applied Algorithms\n",
    "\n",
    "Problem 5\n",
    "You are given a string ‘s’ and two characters c1 and c2. You can choose any one of the two\n",
    "characters and add it to any position in the string to create a new string (exactly once). For\n",
    "example, if s= ‘cdaabcacd’ and c1= ‘a’ and c2=’d’, you could create a new string ‘cdaabdcacd’\n",
    "or ‘acdaabcacd’ etc.(note that the character can be added to the beginning or the end of the\n",
    "string ‘s’). Your job is to find the maximum number of times string ‘c1c2’ can occur as a sub-\n",
    "string of the modified string using Dynamic Programming. The substring can be contiguous\n",
    "or non-contiguous (i.e for a string ‘abcdef’ ,‘ab’,’ce’, ‘ef’,’be’ all are valid substrings). Assume all\n",
    "characters and string s consists of lowercase english letters."
   ]
  },
  {
   "cell_type": "code",
   "execution_count": 251,
   "id": "c98e7318",
   "metadata": {},
   "outputs": [
    {
     "name": "stdout",
     "output_type": "stream",
     "text": [
      "['b', 'b', 'd', 'd']\n",
      "{0: 0, 1: 0, 2: 2, 3: 4}\n"
     ]
    },
    {
     "data": {
      "text/plain": [
       "4"
      ]
     },
     "execution_count": 251,
     "metadata": {},
     "output_type": "execute_result"
    }
   ],
   "source": [
    "def get_max_sbstr(s, c1, c2):\n",
    "    array = []\n",
    "    for char in s:\n",
    "        if char == c1 or char == c2:\n",
    "            array.append(char)\n",
    "    c1_count = 0\n",
    "    c2_count = 0\n",
    "    for char in array:\n",
    "        if char == c1:\n",
    "            c1_count += 1\n",
    "        elif char == c2:\n",
    "            c2_count += 1\n",
    "    newarray = []\n",
    "    if c1 > c2:\n",
    "        newarray += array\n",
    "        newarray += c2\n",
    "    else:\n",
    "        newarray += c1\n",
    "        newarray += array\n",
    "    \n",
    "    print(newarray)\n",
    "    \n",
    "    dict_max_sub = {0:0}\n",
    "    count_c1 = 0\n",
    "    for i in range(0, len(newarray)):\n",
    "        try:\n",
    "            if newarray[i] == c2:\n",
    "                dict_max_sub[i] = dict_max_sub[i-1] + count_c1\n",
    "            elif newarray[i] == c1:\n",
    "                count_c1 += 1\n",
    "                dict_max_sub[i] = dict_max_sub[i-1]\n",
    "        except:\n",
    "            pass\n",
    "                    \n",
    "    print(dict_max_sub)\n",
    "    return dict_max_sub[i]\n",
    "\n",
    "get_max_sbstr(\"bcedecd\", \"b\", \"d\")"
   ]
  },
  {
   "cell_type": "markdown",
   "id": "22dc3e42",
   "metadata": {},
   "source": [
    "Problem 6\n",
    "Assignment 6\n",
    "Jared Schlak - Applied Algorithms\n",
    "\n",
    "Problem 6\n",
    "It is the year 11984 (yes, 11984), and the world is a dystopian society.\n",
    "After decades of searching, the resistance has finally found Rick Sanchez’s Portal Gun which\n",
    "lets them open portals to anywhere in the universe. This will be their key to winning the \"war\".\n",
    "Unfortunately, the Portal Gun is password protected, and they need your help to crack the pass-\n",
    "word.\n",
    "You know that the password is obtained by deleting some digits from the password file which\n",
    "you obtained from the Portal Gun’s Persistent Random Access Memory (PRAM). The password\n",
    "file is just a list of decimal digits. Note that the password cannot be empty!\n",
    "As a first step, you would like to find the total number of possible passwords. Write a program\n",
    "that computes the number of passwords.\n",
    "Full credit only for the most efficient solution."
   ]
  },
  {
   "cell_type": "code",
   "execution_count": 253,
   "id": "af1d2ea3",
   "metadata": {},
   "outputs": [
    {
     "name": "stdout",
     "output_type": "stream",
     "text": [
      "[[0. 1. 2. 3. 4.]\n",
      " [1. 1. 0. 0. 0.]\n",
      " [2. 2. 1. 0. 0.]\n",
      " [1. 2. 3. 1. 0.]\n",
      " [3. 3. 5. 4. 1.]]\n"
     ]
    },
    {
     "data": {
      "text/plain": [
       "13"
      ]
     },
     "execution_count": 253,
     "metadata": {},
     "output_type": "execute_result"
    }
   ],
   "source": [
    "import numpy as np\n",
    "\n",
    "def num_passwords(digit_list):\n",
    "    size = len(digit_list) + 1\n",
    "    m = np.identity(size)\n",
    "    \n",
    "    for i in range(0,size-1):\n",
    "        m[i+1][0]=digit_list[i]\n",
    "                \n",
    "    for j in range(0, size):\n",
    "        m[0][j] = j\n",
    "        \n",
    "    count = 1\n",
    "    m[1][1] = 1\n",
    "    for i in range(2, size):\n",
    "        count += 1\n",
    "        if m[i][0]  in digit_list[:i-1]:\n",
    "            count = count - 1\n",
    "            m[i][1] = count\n",
    "            \n",
    "        else:\n",
    "            m[i][1] = count\n",
    "            \n",
    "    for i in range(3, size):\n",
    "        for j in range(2, size):\n",
    "            if i > j:\n",
    "                if m[i][1] > m[i-1][1]:\n",
    "                    m[i][j] = m[i-1][j-1]+m[i-1][j]\n",
    "                else:\n",
    "                    t = i\n",
    "                    while m[i][0] != m[t-1][0]:\n",
    "                        t = t -1\n",
    "                    if t - 2 == 0:\n",
    "                        m[i][j] = m[i-1][j-1]+m[i-1][j]\n",
    "                    else:\n",
    "                        m[i][j] = m[i-1][j-1]+m[i-1][j] - m[t-2][j-1]\n",
    "    \n",
    "    \n",
    "    print(m)\n",
    "                \n",
    "    ans = (sum(m[i])-m[i][0])\n",
    "    return int(ans)\n",
    "\n",
    "\n",
    "\n",
    "num_passwords([1, 2, 1, 3])"
   ]
  }
 ],
 "metadata": {
  "kernelspec": {
   "display_name": "Python 3 (ipykernel)",
   "language": "python",
   "name": "python3"
  },
  "language_info": {
   "codemirror_mode": {
    "name": "ipython",
    "version": 3
   },
   "file_extension": ".py",
   "mimetype": "text/x-python",
   "name": "python",
   "nbconvert_exporter": "python",
   "pygments_lexer": "ipython3",
   "version": "3.9.12"
  }
 },
 "nbformat": 4,
 "nbformat_minor": 5
}
