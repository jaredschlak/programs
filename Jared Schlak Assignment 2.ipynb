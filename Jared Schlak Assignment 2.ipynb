{
 "cells": [
  {
   "cell_type": "markdown",
   "id": "c3609642",
   "metadata": {
    "pycharm": {
     "name": "#%% md\n"
    }
   },
   "source": [
    "Problem 1\n",
    "Fräulein Anja and Julia bought a rectangular Black Forest cake.\n",
    "Black Forest cakes have cherries on top of them which they both love. Anja would like your help\n",
    "to cut the cake into two smaller rectangular pieces in such a way that she gets the maximum\n",
    "possible cherries after Julia takes the best piece (the one with more cherries) out of the two\n",
    "pieces.\n",
    "Input will be a matrix representing the cake. Here ‘#‘ represents a cherry and ‘.‘ represents\n",
    "no-cherry (just cake). Your output will be the maximum possible number of cherries on Anja’s\n",
    "piece after Julia takes the piece with more cherries. Note that you are allowed to cut the cake\n",
    "only once, and the cut has to be either horizontal or vertical."
   ]
  },
  {
   "cell_type": "code",
   "execution_count": 46,
   "id": "956522a1",
   "metadata": {
    "pycharm": {
     "name": "#%%\n"
    }
   },
   "outputs": [
    {
     "name": "stdout",
     "output_type": "stream",
     "text": [
      "[3, 6, 9] this is the column array\n",
      "[3, 6, 9] this is the row array\n",
      "9 total number of cherries\n",
      "Anja will get 3 number of cherries\n"
     ]
    },
    {
     "data": {
      "text/plain": [
       "3"
      ]
     },
     "execution_count": 46,
     "metadata": {},
     "output_type": "execute_result"
    }
   ],
   "source": [
    "def max_cherries(cake):\n",
    "    count = 0\n",
    "    for row in cake:\n",
    "        for piece in row:\n",
    "            if piece == '#':\n",
    "                count += 1\n",
    "    \n",
    "    columnarray = []\n",
    "    for i in range(3):\n",
    "        countineachcolumn = 0\n",
    "        for item in cake:\n",
    "            if item[i] == \"#\":\n",
    "                countineachcolumn += 1\n",
    "        columnarray += [countineachcolumn]\n",
    "                \n",
    "            \n",
    "    for i in range(len(columnarray)):\n",
    "        if i == 0:\n",
    "            columnarray[i] = columnarray[i]\n",
    "        else:\n",
    "            columnarray[i] += columnarray[i-1]       \n",
    "    print(columnarray , \"this is the column array\")  \n",
    "    \n",
    "    rowarray = []\n",
    "    for row in cake:\n",
    "        countineachrow = 0\n",
    "        for piece in row:\n",
    "            if piece == '#':\n",
    "                countineachrow += 1\n",
    "        rowarray += [countineachrow]\n",
    "\n",
    "    for i in range(len(rowarray)):\n",
    "        if i == 0:\n",
    "            rowarray[i] = rowarray[i]\n",
    "        else:\n",
    "            rowarray[i] += rowarray[i-1]\n",
    "    print(rowarray, \"this is the row array\")\n",
    "           \n",
    "    \n",
    "    maxrow = 0\n",
    "    for num in rowarray:\n",
    "        if num * (count - num) > maxrow:\n",
    "            maxrow = num * (count - num)\n",
    "            if num >= count-num:\n",
    "                anja = count - num\n",
    "            else:\n",
    "                anja = num\n",
    "                        \n",
    "    for num in columnarray:\n",
    "        if num * (count - num) > maxrow:\n",
    "            maxrow = num * (count - num)\n",
    "            if num >= count-num:\n",
    "                anja = count - num\n",
    "            else:\n",
    "                anja = num\n",
    "                \n",
    "    print(count, \"total number of cherries\")\n",
    "    print(\"Anja will get\", anja,\"number of cherries\")\n",
    "    return(anja)\n",
    "    \n",
    "max_cherries([['#', '#', '#'], ['#', '#', '#'], ['#', '#', '#']])\n"
   ]
  },
  {
   "cell_type": "markdown",
   "id": "fddf8770",
   "metadata": {
    "pycharm": {
     "name": "#%% md\n"
    }
   },
   "source": [
    "Problem 2\n",
    "Philippa (more formally, Philippa Georgiou Augustus Iaponius Centarius,\n",
    "her most Imperial Majesty, Mother of the Fatherland, Overlord of Vulcan, Dominus of Qo’noS,\n",
    "Regina Andor) has finally found the locations of the resistance leaders (a.k.a traitors).\n",
    "They are all hiding in a small Terran city that has a weird geometry. All the buildings are on a\n",
    "straight line! She would like to spy on the resistance leaders in the city. Your job, as Philippa’s\n",
    "adviser, is to find the buildings on which to post spies such that you can spy on the entire city\n",
    "using as few spies as possible.\n",
    "A spy posted on a building can spy on people in the buildings to the right which are shorter\n",
    "than the building she is posted on (Of course, she can also spy on the people in her building).\n",
    "You may assume that all buildings have distinct heights. Your input will be the heights of\n",
    "the buildings, and your output has to be the locations (indices) of the buildings on which to post\n",
    "spies."
   ]
  },
  {
   "cell_type": "code",
   "execution_count": 57,
   "id": "72cb8502",
   "metadata": {
    "pycharm": {
     "name": "#%%\n"
    }
   },
   "outputs": [
    {
     "data": {
      "text/plain": [
       "[0, 2, 4]"
      ]
     },
     "execution_count": 57,
     "metadata": {},
     "output_type": "execute_result"
    }
   ],
   "source": [
    "def spy_locations(heights):\n",
    "    array = []\n",
    "    max = -1\n",
    "    for i in range(len(heights)):\n",
    "        if heights[i] > max:\n",
    "            max = heights[i]\n",
    "            array += [i]\n",
    "        \n",
    "    return array\n",
    "\n",
    "spy_locations([4, 3, 7, 6, 9])"
   ]
  },
  {
   "cell_type": "markdown",
   "id": "a082cf06",
   "metadata": {
    "pycharm": {
     "name": "#%% md\n"
    }
   },
   "source": [
    "Problem 3\n",
    "Veidt and Walter are taking turns while playing a game. Given a string pattern p of length n\n",
    "and a string s of length N>n on each turn a player has to remove a character either from the\n",
    "beginning or the end of the string s. Game stops when the size of string s becomes n. Walter\n",
    "wins if the pattern p and the resultant string s are identical. Else Veidt wins. Assuming Veidt\n",
    "always makes the first move and both the players always play using optimal strategy, return the\n",
    "winner of the game. Expected Time Complexity O(n)"
   ]
  },
  {
   "cell_type": "code",
   "execution_count": 126,
   "id": "47ab9911",
   "metadata": {
    "pycharm": {
     "name": "#%%\n"
    }
   },
   "outputs": [
    {
     "name": "stdout",
     "output_type": "stream",
     "text": [
      "aaa\n"
     ]
    },
    {
     "data": {
      "text/plain": [
       "'Walter'"
      ]
     },
     "execution_count": 126,
     "metadata": {},
     "output_type": "execute_result"
    }
   ],
   "source": [
    "def whos_the_winner(s,p):\n",
    "    winner = \"Veidt\"\n",
    "    cut = (len(s)-len(p))//2\n",
    "    s = s[cut:len(s)-cut]\n",
    "    print(s)\n",
    "    if s == p: # O(n)\n",
    "        winner = \"Walter\" # O(1)\n",
    "    elif len(s) == len(p)+1: # O(1)\n",
    "        if s[1:] == s[:-1] and s[1:] == p: # O(5n)\n",
    "            winner = \"Walter\"\n",
    "#     else:\n",
    "#         s = s[1:len(s)-1] #O(N)\n",
    "#         print(s)\n",
    "    return winner\n",
    "\n",
    "whos_the_winner(\"baaab\", \"aa\")"
   ]
  },
  {
   "cell_type": "markdown",
   "id": "513da2da",
   "metadata": {
    "pycharm": {
     "name": "#%% md\n"
    }
   },
   "source": [
    "Problem 4\n",
    "Given a pattern p and a text string s, remove the pattern from the string s whenever it’s instance\n",
    "is found as a substring and concatenate the remaining two parts of the string together. Repeat\n",
    "the above process till there are no more substrings in s that are equal to p and return the resultant\n",
    "string"
   ]
  },
  {
   "cell_type": "code",
   "execution_count": 39,
   "id": "025276f7",
   "metadata": {
    "pycharm": {
     "name": "#%%\n"
    }
   },
   "outputs": [
    {
     "name": "stdout",
     "output_type": "stream",
     "text": [
      "['d']\n"
     ]
    }
   ],
   "source": [
    "def return_resultant_string(s,p):\n",
    "    array_p = []\n",
    "    for item in p:\n",
    "        array_p.append(item)\n",
    "    array_s = []\n",
    "    for item in s:\n",
    "        array_s.append(item)\n",
    "        if array_s[-(len(p)):] ==  array_p:\n",
    "            for i in range(len(p)):\n",
    "                array_s.pop()\n",
    "    print(array_s)\n",
    " \n",
    "                \n",
    "\n",
    "return_resultant_string(\"aaabcbcbcd\", \"abc\")"
   ]
  },
  {
   "cell_type": "markdown",
   "id": "dcafca52",
   "metadata": {
    "pycharm": {
     "name": "#%% md\n"
    }
   },
   "source": [
    "Problem 5\n",
    "Given a binary string of n characters and a list of strings queries where each element in the list\n",
    "is either “flip” or “get”. For each element query in “queries”, if the query is “flip” you have to find\n",
    "the first “1” from the left, set it to ‘0’ and set all the ‘0’s before it to ‘1’.\n",
    "Whenever the query is “get” you have to append the number of ‘1’s in the binary string to a\n",
    "“result” list. After accounting for all the queries return the list of integers result. The operations\n",
    "“flip” and “get” are to be implemented in O(1) complexity.\n",
    "One may safely assume there is at least one ‘1’ in the string when either of the above functions\n",
    "is called."
   ]
  },
  {
   "cell_type": "code",
   "execution_count": 9,
   "id": "a7651454",
   "metadata": {
    "pycharm": {
     "name": "#%%\n"
    }
   },
   "outputs": [
    {
     "name": "stdout",
     "output_type": "stream",
     "text": [
      "[0, 0, 0, 0, 1, 0, 1, 0, 1, 1]\n",
      "[1, 1, 1, 1, 0, 0, 1, 0, 1, 1]\n",
      "[0, 1, 1, 1, 0, 0, 1, 0, 1, 1]\n",
      "[1, 0, 1, 1, 0, 0, 1, 0, 1, 1]\n",
      "[0, 0, 1, 1, 0, 0, 1, 0, 1, 1]\n",
      "[1, 1, 0, 1, 0, 0, 1, 0, 1, 1]\n"
     ]
    },
    {
     "data": {
      "text/plain": [
       "[4, 6, 6]"
      ]
     },
     "execution_count": 9,
     "metadata": {},
     "output_type": "execute_result"
    }
   ],
   "source": [
    "def flip_game(s,queries):\n",
    "    array = []\n",
    "    finalarray = []\n",
    "    for num in s:\n",
    "        array.append(int(num))\n",
    "    print(array)\n",
    "    for item in queries:\n",
    "        if item == \"flip\":\n",
    "            count = 0\n",
    "            for i in range(len(array)):\n",
    "                if array[i] == 0 and count == 0:\n",
    "                    array[i] = 1\n",
    "                elif array[i] == 1 and count == 0:\n",
    "                    array[i] = 0\n",
    "                    count = 1\n",
    "            print(array)\n",
    "        elif item == \"get\":\n",
    "            sum = 0\n",
    "            for num in array:\n",
    "                sum += num\n",
    "            finalarray.append(sum)\n",
    "        else:\n",
    "            print(\"you mispelled flip or get, try it again with the correct input\")\n",
    "    \n",
    "    return finalarray\n",
    "\n",
    "flip_game(\"0000101011\", [\"get\", \"flip\", \"flip\", \"get\", \"flip\", \"flip\", \"flip\", \"get\"])\n"
   ]
  },
  {
   "cell_type": "code",
   "execution_count": 25,
   "id": "31a0d5e3",
   "metadata": {
    "pycharm": {
     "name": "#%%\n"
    }
   },
   "outputs": [
    {
     "name": "stdout",
     "output_type": "stream",
     "text": [
      "[4, 6, 8, 9]\n",
      "[0, 1, 2, 3, 6, 8, 9]\n",
      "[1, 2, 3, 6, 8, 9]\n",
      "[0, 2, 3, 6, 8, 9]\n",
      "[2, 3, 6, 8, 9]\n",
      "[0, 1, 3, 6, 8, 9]\n"
     ]
    },
    {
     "data": {
      "text/plain": [
       "[4, 6, 6]"
      ]
     },
     "execution_count": 25,
     "metadata": {},
     "output_type": "execute_result"
    }
   ],
   "source": [
    "def flip_game(s,queries):\n",
    "    arrayofones = []\n",
    "    finalarray = []\n",
    "    for i in range(len(s)):\n",
    "        if s[i] == \"1\":\n",
    "            arrayofones.append(i)\n",
    "    print(arrayofones)\n",
    "    \n",
    "    for item in queries:\n",
    "        if item == \"get\":\n",
    "            sum = len(arrayofones)\n",
    "            finalarray.append(sum)\n",
    "        elif item == \"flip\":\n",
    "            if arrayofones[0] > 0:\n",
    "                array = []\n",
    "                for i in range(arrayofones[0]):\n",
    "                    array.append(i)\n",
    "                array = array + arrayofones[1:]\n",
    "                arrayofones = array\n",
    "                print(arrayofones)\n",
    "            else:\n",
    "                arrayofones.pop(0)\n",
    "                print(arrayofones)\n",
    "                    \n",
    "        else:\n",
    "            print(\"you mispelled flip or get, try it again with the correct input\")\n",
    "            \n",
    "    \n",
    "    return finalarray\n",
    "\n",
    "flip_game(\"0000101011\", [\"get\", \"flip\", \"flip\", \"get\", \"flip\", \"flip\", \"flip\", \"get\"])"
   ]
  },
  {
   "cell_type": "markdown",
   "id": "49cc721e",
   "metadata": {
    "pycharm": {
     "name": "#%% md\n"
    }
   },
   "source": [
    "Problem 6\n",
    "You are provided with a scoresheet, Calculate the total number of points scored at the end of\n",
    "the game by following the rules.\n",
    "Rules:\n",
    "1. An integer x - Record a new score of x.\n",
    "2. [+, -, *, %, /]- Record a new score by performing a given operation on previous two scores.\n",
    "It is guaranteed there will always be two previous scores.\n",
    "3. \"D\" - Record a new score that is double the previous score. It is guaranteed there will\n",
    "always be a previous score.\n",
    "4. \"I\" - Invalidate the previous score, remove it from the record. It is guaranteed that there\n",
    "will always be a previous score.\n",
    "Note: - For “/” operation consider the floor division of the given 2 numbers."
   ]
  },
  {
   "cell_type": "code",
   "execution_count": 20,
   "id": "d9a56f93",
   "metadata": {
    "pycharm": {
     "name": "#%%\n"
    }
   },
   "outputs": [
    {
     "name": "stdout",
     "output_type": "stream",
     "text": [
      "[5, -2, -4, 9, 5, 1]\n"
     ]
    },
    {
     "data": {
      "text/plain": [
       "14"
      ]
     },
     "execution_count": 20,
     "metadata": {},
     "output_type": "execute_result"
    }
   ],
   "source": [
    "def calculate_points(list):\n",
    "    scoresheet = []\n",
    "    for i in range(len(list)):\n",
    "        if list[i] == \"+\":\n",
    "            plus = int(scoresheet[-2]) + int(scoresheet[-1])\n",
    "            scoresheet.append(plus)\n",
    "        elif list[i] == \"-\":\n",
    "            minus = int(scoresheet[-2]) - int(scoresheet[-1])\n",
    "            scoresheet.append(minus)\n",
    "        elif list[i] == \"*\":\n",
    "            product = int(scoresheet[-2]) * int(scoresheet[-1])\n",
    "            scoresheet.append(product)\n",
    "        elif list[i] == \"/\":\n",
    "            quotient = int(scoresheet[-2]) // int(scoresheet[-1])\n",
    "            scoresheet.append(quotient)\n",
    "        elif list[i] == \"%\":\n",
    "            remainder = int(scoresheet[-2]) % int(scoresheet[-1])\n",
    "            scoresheet.append(remainder)\n",
    "        elif list[i] == \"D\":\n",
    "            double = 2 * int(scoresheet[-1])\n",
    "            scoresheet.append(double)\n",
    "        elif list[i] == \"I\":\n",
    "            scoresheet.pop()\n",
    "        else:  \n",
    "            scoresheet.append(int(list[i]))\n",
    "    print(scoresheet)\n",
    "    return sum(scoresheet)\n",
    "\n",
    "calculate_points([\"5\",\"-2\",\"4\",\"I\",\"D\",\"9\",\"+\",\"/\"])"
   ]
  },
  {
   "cell_type": "markdown",
   "id": "cb524cd7",
   "metadata": {
    "pycharm": {
     "name": "#%% md\n"
    }
   },
   "source": [
    "Problem 7\n",
    "Write a program which performs following operations in the Linked List.\n",
    "Insert: Given an element and position , insert the element at that position in the linked list. If\n",
    "the position is not valid , do nothing\n",
    "Delete: Given an element, delete that element. If given search element is not available then\n",
    "do nothing\n",
    "Update : Given an element replace with the new element. If given search element is not\n",
    "available then do nothing\n",
    "Search: Given an element return True if it is in the linked List else False.\n",
    "Given two sorted linked list, return a sorted new linked list with merging of given linked lists.\n",
    "For every operation print the linked list!"
   ]
  },
  {
   "cell_type": "code",
   "execution_count": 228,
   "id": "3412e1be",
   "metadata": {
    "pycharm": {
     "name": "#%%\n"
    }
   },
   "outputs": [
    {
     "name": "stdout",
     "output_type": "stream",
     "text": [
      "20\n",
      "90\n",
      "103\n",
      "103\n",
      "103\n",
      "103\n",
      "103\n",
      "90\n",
      "90\n",
      "60\n"
     ]
    }
   ],
   "source": [
    "class Node:\n",
    "    def __init__(self , num , next = None):\n",
    "        self.num = num\n",
    "        self.next = next\n",
    "\n",
    "class Linked_List:\n",
    "    def __init__(self):\n",
    "        self.head = None\n",
    "        \n",
    "    def CreateHead(self, element):\n",
    "        newNode = Node(element)\n",
    "        if self.head == None:\n",
    "            newNode.next = self.head\n",
    "            self.head = newNode\n",
    "            \n",
    "    \n",
    "    def Insert(self, element, position):\n",
    "        nodeInsert = Node(element)\n",
    "        if self.head == None:\n",
    "            self.head = nodeInsert\n",
    "            return\n",
    "        temp = self.head\n",
    "        prev = None\n",
    "        for i in range(position):\n",
    "            prev=temp\n",
    "            temp = temp.next\n",
    "        nodeInsert.next = temp\n",
    "        prev.next=nodeInsert\n",
    "        temp = self.head\n",
    "        if self.head == None:\n",
    "            print(\"empty\")\n",
    "        while temp:\n",
    "            print(temp.num , \"---->\")\n",
    "            temp = temp.next\n",
    "\n",
    "    def delete(self, element):\n",
    "        temp = self.head\n",
    "        while temp:\n",
    "            if temp.num == element == self.head.num:\n",
    "                self.head = self.head.next\n",
    "                return\n",
    "            elif temp.next!=None and temp.next.num == element and temp.next.next == None:\n",
    "                temp.next = None\n",
    "                return\n",
    "            elif temp.next!=None and temp.next.num == element:\n",
    "                temp.next = temp.next.next\n",
    "                return\n",
    "            temp = temp.next\n",
    "        temp = self.head\n",
    "        if self.head == None:\n",
    "            print(\"empty\")\n",
    "        while temp:\n",
    "            print(temp.num , \"---->\")\n",
    "            temp = temp.next\n",
    "            \n",
    "                \n",
    "    def Update(self, search_element, replace_element):\n",
    "        temp = self.head\n",
    "        while temp:\n",
    "            if temp.num == search_element:\n",
    "                temp.num = replace_element\n",
    "            temp = temp.next\n",
    "        temp = self.head\n",
    "        if self.head == None:\n",
    "            print(\"empty\")\n",
    "        while temp:\n",
    "            print(temp.num , \"---->\")\n",
    "            temp = temp.next\n",
    "\n",
    "    def Search(self, element):\n",
    "        temp = self.head\n",
    "        answer = \"false\"\n",
    "        while temp:\n",
    "            if temp.num == element:\n",
    "                answer = \"true\"\n",
    "            temp = temp.next\n",
    "        return answer\n",
    "        temp = self.head\n",
    "        if self.head == None:\n",
    "            print(\"empty\")\n",
    "        while temp:\n",
    "            print(temp.num , \"---->\")\n",
    "            temp = temp.next\n",
    "        \n",
    "\n",
    "    def merge_linkedlists(self , Linkedlist):\n",
    "        temp = self.head\n",
    "        if self.head == None:\n",
    "            print(\"empty\")\n",
    "        while temp:\n",
    "            print(temp.num , \"---->\")\n",
    "            temp = temp.next\n",
    "        \n",
    "    def Display(self):\n",
    "        temp = self.head\n",
    "        if self.head == None:\n",
    "            print(\"empty\")\n",
    "        while temp:\n",
    "            print(temp.num , \"---->\")\n",
    "            temp = temp.next\n",
    "            \n",
    "linkedListA.Display()\n",
    "linkedListA.Update(90,100)\n"
   ]
  },
  {
   "cell_type": "markdown",
   "id": "8e683d8b",
   "metadata": {
    "pycharm": {
     "name": "#%% md\n"
    }
   },
   "source": [
    "Problem 8\n",
    "There is a colony of ants where each ant has been assigned a positive number as its identity.\n",
    "Ants returning from food hunt form a line outside the nest. Their nest has a single narrow\n",
    "entrance where only one ant, at a time can enter the nest through it.\n",
    "The colony has a rule, where any ant with number ‘x’, arriving at the entrance cannot enter the\n",
    "nest before all the preceding numbered ants have entered (x-1,x-2,...) the nest [ant 4 cannot\n",
    "enter till ants 3,2 and 1 have entered the nest].\n",
    "There is a narrow tunnel near the entrance where any number of ants can ‘wait’ if required, till\n",
    "it’s their turn to enter the nest. Any ant that enters the waiting tunnel last must necessarily leave\n",
    "the tunnel first, and any ant leaving the waiting tunnel can only go to the entrance of the nest,\n",
    "and cannot re-enter the arrival queue.\n",
    "You are given the order in which ‘n’ ants arrive at the entrance in an array containing numbers\n",
    "1 to n. write a function that returns 1 if all ants can enter the nest without breaking the rule(i.e\n",
    "in order 1,2,3,.. etc.) and 0 if they cannot."
   ]
  },
  {
   "cell_type": "code",
   "execution_count": 11,
   "id": "f9da40b2",
   "metadata": {
    "pycharm": {
     "name": "#%%\n"
    }
   },
   "outputs": [
    {
     "name": "stdout",
     "output_type": "stream",
     "text": [
      "[5]\n",
      "[5, 4]\n",
      "[5, 4, 3]\n",
      "[5, 4]\n",
      "[5]\n",
      "[]\n",
      "[10]\n",
      "[10, 9]\n",
      "[10, 9, 8]\n",
      "[10, 9, 8, 7]\n",
      "[10, 9, 8]\n",
      "[10, 9]\n",
      "[10]\n",
      "[]\n"
     ]
    },
    {
     "data": {
      "text/plain": [
       "1"
      ]
     },
     "execution_count": 11,
     "metadata": {},
     "output_type": "execute_result"
    }
   ],
   "source": [
    "def validate_order(nums):\n",
    "    answer = 1\n",
    "    count = 1\n",
    "    waitarray = []\n",
    "    for i in range(len(nums)):\n",
    "        if nums[i]  == count:\n",
    "            count += 1\n",
    "        else:\n",
    "            waitarray.append(nums[i])\n",
    "            print(waitarray)\n",
    "        for j in range(len(waitarray)):\n",
    "            if waitarray[-1] == count:\n",
    "                waitarray.pop()\n",
    "                count += 1\n",
    "                print(waitarray)\n",
    "        if len(waitarray) >= 2:\n",
    "            if waitarray[-1] > waitarray[-2]:\n",
    "                answer = 0\n",
    "        \n",
    "    return answer\n",
    "\n",
    "validate_order([5, 4, 1, 3, 2, 10, 9, 8, 7, 6])"
   ]
  }
 ],
 "metadata": {
  "kernelspec": {
   "display_name": "Python 3 (ipykernel)",
   "language": "python",
   "name": "python3"
  },
  "language_info": {
   "codemirror_mode": {
    "name": "ipython",
    "version": 3
   },
   "file_extension": ".py",
   "mimetype": "text/x-python",
   "name": "python",
   "nbconvert_exporter": "python",
   "pygments_lexer": "ipython3",
   "version": "3.9.12"
  }
 },
 "nbformat": 4,
 "nbformat_minor": 5
}